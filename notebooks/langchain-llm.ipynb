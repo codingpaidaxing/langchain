{
 "cells": [
  {
   "cell_type": "markdown",
   "metadata": {},
   "source": [
    "###### 载入环境变量，根据不同的LLM模块，需要的环境变量也是不一样的。"
   ]
  },
  {
   "cell_type": "code",
   "execution_count": 6,
   "metadata": {},
   "outputs": [
    {
     "name": "stdout",
     "output_type": "stream",
     "text": [
      "The dotenv extension is already loaded. To reload it, use:\n",
      "  %reload_ext dotenv\n"
     ]
    }
   ],
   "source": [
    "# 如果环境变量没有生效，可尝试使用下面命令加载环境变量\n",
    "# %load_ext dotenv\n",
    "# %reload_ext dotenv\n",
    "# %dotenv\n",
    "\n",
    "#  如果上述方法环境变量依然没有生效，可尝试使用下面命令加载环境变量\n",
    "%reset -f\n",
    "%load_ext dotenv\n",
    "%dotenv\n",
    "\n",
    "\n",
    "\n",
    "#  下面试打印出环境变量。\n",
    "# 获取所有环境变量\n",
    "# import os\n",
    "\n",
    "# env_vars = os.environ\n",
    "\n",
    "# # 打印所有环境变量\n",
    "# for key, value in env_vars.items():\n",
    "#     print(f\"{key}: {value}\")"
   ]
  },
  {
   "cell_type": "code",
   "execution_count": 8,
   "metadata": {},
   "outputs": [],
   "source": [
    "from langchain.llms import OpenAI\n",
    "\n",
    "llm = OpenAI()"
   ]
  },
  {
   "cell_type": "code",
   "execution_count": 9,
   "metadata": {},
   "outputs": [
    {
     "data": {
      "text/plain": [
       "'\\n\\n小黄、小黑、小白、小花、小毛、小豆、小青、小米、小香、小芝、小明、小旺、小洋、小贝、小乐、小满、小心、小凡、小兰、小柴、小熊、小宝、小泰、小爱、小吉、小磊、小红、小汪、小彬、小鹏、小奇、小哲、小越、小纪、小蕾、小果、小润、小涵、小欢、小灵、小珍、小翼'"
      ]
     },
     "execution_count": 9,
     "metadata": {},
     "output_type": "execute_result"
    }
   ],
   "source": [
    "llm.predict(\"给我一个很好听但是比较土的小狗的名字\")"
   ]
  },
  {
   "cell_type": "code",
   "execution_count": 10,
   "metadata": {},
   "outputs": [
    {
     "data": {
      "text/plain": [
       "'土但好听的小狗名字有很多选择，以下是一些例子：\\n\\n1. 汪汪\\n2. 旺财\\n3. 小黄\\n4. 小白\\n5. 小黑\\n6. 小米\\n7. 飞飞\\n8. 心心\\n9. 萌萌\\n10. 咕咕\\n11. 乖乖\\n12. 跳跳\\n13. 笨笨\\n14. 洋洋\\n15. 粉粉\\n\\n希望你可以从中找到一个你喜欢的名字！'"
      ]
     },
     "execution_count": 10,
     "metadata": {},
     "output_type": "execute_result"
    }
   ],
   "source": [
    "# 方式一：\n",
    "from langchain.chat_models import ChatOpenAI\n",
    "\n",
    "chat_model = ChatOpenAI()\n",
    "chat_model.predict(\"给我一个很土但是很好听的小狗的名字\")\n"
   ]
  },
  {
   "cell_type": "code",
   "execution_count": 16,
   "metadata": {},
   "outputs": [
    {
     "name": "stderr",
     "output_type": "stream",
     "text": [
      "Retrying langchain.chat_models.openai.ChatOpenAI.completion_with_retry.<locals>._completion_with_retry in 4.0 seconds as it raised Timeout: Request timed out: HTTPSConnectionPool(host='api.openai.com', port=443): Max retries exceeded with url: /v1/chat/completions (Caused by ConnectTimeoutError(<urllib3.connection.HTTPSConnection object at 0x000002A937CFCFD0>, 'Connection to api.openai.com timed out. (connect timeout=600)')).\n"
     ]
    },
    {
     "data": {
      "text/plain": [
       "AIMessage(content='彩虹独角兽乐园')"
      ]
     },
     "execution_count": 16,
     "metadata": {},
     "output_type": "execute_result"
    }
   ],
   "source": [
    "\n",
    "# 方式二：\n",
    "# 对话方式由 AIMessage包裹，针对于聊条历史记录chat_model更好用一些。\n",
    "from langchain.schema import HumanMessage\n",
    "text = \"一个专门生产彩虹独角兽的公司应该叫什么名字\"\n",
    "messages = [HumanMessage(content=text)]\n",
    "\n",
    "chat_model.predict_messages(messages)"
   ]
  },
  {
   "cell_type": "code",
   "execution_count": 17,
   "metadata": {},
   "outputs": [
    {
     "data": {
      "text/plain": [
       "AIMessage(content='\\n\\nRobot: 我建议叫做 \"彩虹独角兽公司\"！')"
      ]
     },
     "execution_count": 17,
     "metadata": {},
     "output_type": "execute_result"
    }
   ],
   "source": [
    "\n",
    "# 方式三：\n",
    "# 对话方式\n",
    "llm.predict_messages(messages)"
   ]
  }
 ],
 "metadata": {
  "kernelspec": {
   "display_name": "Python 3",
   "language": "python",
   "name": "python3"
  },
  "language_info": {
   "codemirror_mode": {
    "name": "ipython",
    "version": 3
   },
   "file_extension": ".py",
   "mimetype": "text/x-python",
   "name": "python",
   "nbconvert_exporter": "python",
   "pygments_lexer": "ipython3",
   "version": "3.10.11"
  }
 },
 "nbformat": 4,
 "nbformat_minor": 2
}
