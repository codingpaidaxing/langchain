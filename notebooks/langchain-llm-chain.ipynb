{
 "cells": [
  {
   "cell_type": "code",
   "execution_count": 1,
   "metadata": {},
   "outputs": [],
   "source": [
    "%load_ext dotenv\n",
    "%dotenv\n",
    "\n",
    "from langchain.llms import OpenAI\n",
    "\n",
    "llm = OpenAI()"
   ]
  },
  {
   "cell_type": "code",
   "execution_count": 2,
   "metadata": {},
   "outputs": [
    {
     "data": {
      "text/plain": [
       "'给我一个很土但很好听的小狗小名'"
      ]
     },
     "execution_count": 2,
     "metadata": {},
     "output_type": "execute_result"
    }
   ],
   "source": [
    "from langchain.prompts import PromptTemplate\n",
    "# 提示模板\n",
    "prompt = PromptTemplate.from_template(\"给我一个很土但很好听的{对象}小名\")\n",
    "\n",
    "\n",
    "prompt.format(对象= \"小狗\")"
   ]
  },
  {
   "cell_type": "code",
   "execution_count": 3,
   "metadata": {},
   "outputs": [
    {
     "data": {
      "text/plain": [
       "'\\n\\n米兰达、皮肤、米妮、小芭、小猫尼可、小猫咪、小猫跳、小猫莉、小猫毛、小猫萝、小猫星、小猫雪、小猫梅、小猫花、小猫宝、小猫拉、小猫咪咪、小猫猫、小猫桃子、小猫熊猫、小猫吉吉、小猫糖糖、小猫爱米、小猫豆豆、小猫宝贝、小猫咪咪、小猫贝'"
      ]
     },
     "execution_count": 3,
     "metadata": {},
     "output_type": "execute_result"
    }
   ],
   "source": [
    "from langchain.chains import LLMChain\n",
    "\n",
    "chain = LLMChain(llm=llm, prompt=prompt)\n",
    "\n",
    "# run提供了一个参数。prompt只有一个参数正好是run方法提供的\n",
    "chain.run(\"小猫\")"
   ]
  }
 ],
 "metadata": {
  "kernelspec": {
   "display_name": "Python 3",
   "language": "python",
   "name": "python3"
  },
  "language_info": {
   "codemirror_mode": {
    "name": "ipython",
    "version": 3
   },
   "file_extension": ".py",
   "mimetype": "text/x-python",
   "name": "python",
   "nbconvert_exporter": "python",
   "pygments_lexer": "ipython3",
   "version": "3.10.11"
  }
 },
 "nbformat": 4,
 "nbformat_minor": 2
}
